{
 "cells": [
  {
   "cell_type": "code",
   "execution_count": 2,
   "id": "49efa67c",
   "metadata": {},
   "outputs": [
    {
     "name": "stdout",
     "output_type": "stream",
     "text": [
      "List: [1, 2, 3]\n"
     ]
    }
   ],
   "source": [
    "import numpy as np\n",
    "\n",
    "arr = np.array([1, 2, 3])\n",
    "\n",
    "list1 = arr.tolist()\n",
    "print(f'List: {list1}')"
   ]
  },
  {
   "cell_type": "code",
   "execution_count": 5,
   "id": "ffa0f7e8",
   "metadata": {},
   "outputs": [
    {
     "name": "stdout",
     "output_type": "stream",
     "text": [
      "Numpy Matrix is:\n",
      "[[35 15  5]\n",
      " [30 44  2]\n",
      " [11 45 77]]\n",
      "\n",
      "Trace of given 3X3 matrix:\n",
      "156\n"
     ]
    }
   ],
   "source": [
    "import numpy as np\n",
    "  \n",
    "n_array = np.array([[35, 15, 5],\n",
    "                    [30, 44, 2],\n",
    "                    [11, 45, 77]])\n",
    "  \n",
    "print(\"Numpy Matrix is:\")\n",
    "print(n_array)\n",
    "  \n",
    "trace = np.trace(n_array)\n",
    "  \n",
    "print(\"\\nTrace of given 3X3 matrix:\")\n",
    "print(trace)"
   ]
  },
  {
   "cell_type": "code",
   "execution_count": 1,
   "id": "a4e17d4c",
   "metadata": {},
   "outputs": [
    {
     "name": "stdout",
     "output_type": "stream",
     "text": [
      "\n",
      "False\n",
      "False\n",
      "\n"
     ]
    }
   ],
   "source": [
    "num = [2, 3, 4]\n",
    "print()\n",
    "print(all(x > 5 for x in num))\n",
    "print(all(x >4 for x in num))\n",
    "print()"
   ]
  },
  {
   "cell_type": "code",
   "execution_count": null,
   "id": "b58317b5",
   "metadata": {},
   "outputs": [],
   "source": []
  },
  {
   "cell_type": "code",
   "execution_count": 8,
   "id": "36270392",
   "metadata": {},
   "outputs": [
    {
     "name": "stdout",
     "output_type": "stream",
     "text": [
      "1st Input  number :  6\n",
      "2nd Input  number :  4\n",
      "Difference of two input number :  2\n"
     ]
    }
   ],
   "source": [
    "import numpy as np\n",
    "in_num1 = 6\n",
    "in_num2 = 4\n",
    "  \n",
    "print (\"1st Input  number : \", in_num1)\n",
    "print (\"2nd Input  number : \", in_num2)\n",
    "    \n",
    "out_num = np.subtract(in_num1, in_num2) \n",
    "print (\"Difference of two input number : \", out_num) "
   ]
  },
  {
   "cell_type": "code",
   "execution_count": null,
   "id": "845cd5ea",
   "metadata": {},
   "outputs": [],
   "source": []
  }
 ],
 "metadata": {
  "kernelspec": {
   "display_name": "Python 3",
   "language": "python",
   "name": "python3"
  },
  "language_info": {
   "codemirror_mode": {
    "name": "ipython",
    "version": 3
   },
   "file_extension": ".py",
   "mimetype": "text/x-python",
   "name": "python",
   "nbconvert_exporter": "python",
   "pygments_lexer": "ipython3",
   "version": "3.8.8"
  }
 },
 "nbformat": 4,
 "nbformat_minor": 5
}
