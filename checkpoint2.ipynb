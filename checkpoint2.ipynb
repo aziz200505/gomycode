{
 "cells": [
  {
   "cell_type": "code",
   "execution_count": 31,
   "id": "f45a03e8",
   "metadata": {},
   "outputs": [
    {
     "name": "stdout",
     "output_type": "stream",
     "text": [
      "input your first name aziz\n",
      "input your last name ben romdhane\n",
      "ben romdhane aziz\n"
     ]
    }
   ],
   "source": [
    "#Python program which accepts the user's first and last name and print them in reverse order\n",
    "firstname=input(\"input your first name \")\n",
    "lastname=input(\"input your last name \")\n",
    "print(lastname,firstname)"
   ]
  },
  {
   "cell_type": "code",
   "execution_count": 33,
   "id": "56412a8e",
   "metadata": {},
   "outputs": [
    {
     "name": "stdout",
     "output_type": "stream",
     "text": [
      "write number n: 5\n",
      "result is: 615\n"
     ]
    }
   ],
   "source": [
    "n=input(\"write number n: \")\n",
    "\n",
    "tem1=n+n\n",
    "tem2=n+n+n\n",
    "n=int(n)\n",
    "tem1=int(tem1)\n",
    "tem2=int(tem2)\n",
    "\n",
    "compt=n+tem1+tem2\n",
    "print(\"result is:\",compt)"
   ]
  },
  {
   "cell_type": "code",
   "execution_count": 35,
   "id": "0b72b446",
   "metadata": {},
   "outputs": [
    {
     "name": "stdout",
     "output_type": "stream",
     "text": [
      "enter number n: 7\n",
      "n is an odd umber\n"
     ]
    }
   ],
   "source": [
    "number=int(input(\"enter number n: \"))\n",
    "if(n%2==0) :\n",
    "    print(\"n is an even number\")\n",
    "else :\n",
    "    print(\"n is an odd umber\")\n"
   ]
  },
  {
   "cell_type": "code",
   "execution_count": 38,
   "id": "0cc68ee6",
   "metadata": {},
   "outputs": [
    {
     "name": "stdout",
     "output_type": "stream",
     "text": [
      "enter number n: 555\n",
      "2002 2009 2016 2023 2037 2044 2051 2058 2072 2079 2086 2093 2107 2114 2121 2128 2142 2149 2156 2163 2177 2184 2191 2198 2212 2219 2226 2233 2247 2254 2261 2268 2282 2289 2296 2303 2317 2324 2331 2338 2352 2359 2366 2373 2387 2394 2401 2408 2422 2429 2436 2443 2457 2464 2471 2478 2492 2499 2506 2513 2527 2534 2541 2548 2562 2569 2576 2583 2597 2604 2611 2618 2632 2639 2646 2653 2667 2674 2681 2688 2702 2709 2716 2723 2737 2744 2751 2758 2772 2779 2786 2793 2807 2814 2821 2828 2842 2849 2856 2863 2877 2884 2891 2898 2912 2919 2926 2933 2947 2954 2961 2968 2982 2989 2996 3003 3017 3024 3031 3038 3052 3059 3066 3073 3087 3094 3101 3108 3122 3129 3136 3143 3157 3164 3171 3178 3192 3199\n"
     ]
    }
   ],
   "source": [
    "number=int(input(\"enter number n: \"))\n",
    "print(*[i for i in range(2000, 3201) if not(i%7) and i%5])"
   ]
  },
  {
   "cell_type": "code",
   "execution_count": 42,
   "id": "b3d1e683",
   "metadata": {},
   "outputs": [
    {
     "ename": "SyntaxError",
     "evalue": "invalid syntax (<ipython-input-42-5a092357284f>, line 7)",
     "output_type": "error",
     "traceback": [
      "\u001b[1;36m  File \u001b[1;32m\"<ipython-input-42-5a092357284f>\"\u001b[1;36m, line \u001b[1;32m7\u001b[0m\n\u001b[1;33m    print fact(x)\u001b[0m\n\u001b[1;37m          ^\u001b[0m\n\u001b[1;31mSyntaxError\u001b[0m\u001b[1;31m:\u001b[0m invalid syntax\n"
     ]
    }
   ],
   "source": [
    "\n"
   ]
  },
  {
   "cell_type": "code",
   "execution_count": null,
   "id": "101683e6",
   "metadata": {},
   "outputs": [],
   "source": [
    "# Python Program to Remove Odd Index Characters in a String\n",
    "s1=input (\"enter here: \")\n",
    "s2=\" \"\n",
    "for i in range (0,len(s1)):\n",
    "    if i%2!=0:\n",
    "        s2+=s1[i]\n",
    "print(s2)\n",
    "\n",
    "\n"
   ]
  },
  {
   "cell_type": "code",
   "execution_count": 45,
   "id": "be8fef33",
   "metadata": {},
   "outputs": [
    {
     "name": "stdout",
     "output_type": "stream",
     "text": [
      "Enter value Amount: 500\n",
      "Discount :  20.0\n",
      "Net Pay  :  480.0\n"
     ]
    }
   ],
   "source": [
    "val = int(input(\"Enter value Amount: \"))\n",
    "if(val>0):\n",
    "    if val<=200:\n",
    "       discount = val*0.1\n",
    "    elif val<=500:\n",
    "        discount=val*0.3\n",
    "    else:\n",
    "         discount=0.5 * val\n",
    "\n",
    "    print(\"Discount : \",disc)\n",
    "    print(\"Net Pay  : \",val-disc)\n",
    "else:\n",
    "    print(\"Invalid Amount\")"
   ]
  },
  {
   "cell_type": "code",
   "execution_count": null,
   "id": "13dc6677",
   "metadata": {},
   "outputs": [],
   "source": []
  }
 ],
 "metadata": {
  "kernelspec": {
   "display_name": "Python 3",
   "language": "python",
   "name": "python3"
  },
  "language_info": {
   "codemirror_mode": {
    "name": "ipython",
    "version": 3
   },
   "file_extension": ".py",
   "mimetype": "text/x-python",
   "name": "python",
   "nbconvert_exporter": "python",
   "pygments_lexer": "ipython3",
   "version": "3.8.8"
  }
 },
 "nbformat": 4,
 "nbformat_minor": 5
}
