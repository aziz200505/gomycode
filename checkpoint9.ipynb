{
 "cells": [
  {
   "cell_type": "code",
   "execution_count": 3,
   "id": "df17b86e",
   "metadata": {},
   "outputs": [
    {
     "name": "stdout",
     "output_type": "stream",
     "text": [
      "False\n",
      "True\n"
     ]
    }
   ],
   "source": [
    "def binary_search(item_list,item):\n",
    "    first = 0\n",
    "    last = len(item_list)-1\n",
    "    found = False\n",
    "    while( first<=last and not found):\n",
    "        mid = (first + last)//2\n",
    "        if item_list[mid] == item :\n",
    "            found = True\n",
    "        else:\n",
    "            if item < item_list[mid]:\n",
    "                last = mid - 1\n",
    "            else:\n",
    "                first = mid + 1    \n",
    "    return found\n",
    "    \n",
    "print(binary_search([1,2,3,5,8], 6))\n",
    "print(binary_search([1,2,3,5,8], 5))"
   ]
  },
  {
   "cell_type": "code",
   "execution_count": 4,
   "id": "6e48d5b3",
   "metadata": {},
   "outputs": [
    {
     "name": "stdout",
     "output_type": "stream",
     "text": [
      "81\n"
     ]
    }
   ],
   "source": [
    "def power(a,b):\n",
    "    if b==0:\n",
    "        return 1\n",
    "    elif a==0:\n",
    "        return 0\n",
    "    elif b==1:\n",
    "        return a\n",
    "    else:\n",
    "        return a*power(a,b-1)\n",
    "\n",
    "print(power(3,4))"
   ]
  },
  {
   "cell_type": "code",
   "execution_count": 5,
   "id": "948dfffd",
   "metadata": {},
   "outputs": [
    {
     "name": "stdout",
     "output_type": "stream",
     "text": [
      "[14, 21, 27, 41, 43, 45, 46, 57, 70]\n"
     ]
    }
   ],
   "source": [
    "def bubbleSort(nlist):\n",
    "    for passnum in range(len(nlist)-1,0,-1):\n",
    "        for i in range(passnum):\n",
    "            if nlist[i]>nlist[i+1]:\n",
    "                temp = nlist[i]\n",
    "                nlist[i] = nlist[i+1]\n",
    "                nlist[i+1] = temp\n",
    "\n",
    "nlist = [14,46,43,27,57,41,45,21,70]\n",
    "bubbleSort(nlist)\n",
    "print(nlist)"
   ]
  },
  {
   "cell_type": "code",
   "execution_count": 8,
   "id": "a92e111b",
   "metadata": {},
   "outputs": [
    {
     "name": "stdout",
     "output_type": "stream",
     "text": [
      "13\n",
      "22\n",
      "29\n",
      "37\n",
      "46\n",
      "49\n",
      "52\n",
      "56\n",
      "71\n"
     ]
    }
   ],
   "source": [
    "\n",
    "def merge(arr, l, m, r):\n",
    "    n1 = m - l + 1\n",
    "    n2 = r- m\n",
    "\n",
    "    L = [0] * (n1)\n",
    "    R = [0] * (n2)\n",
    "  \n",
    "\n",
    "    for i in range(0 , n1):\n",
    "        L[i] = arr[l + i]\n",
    "  \n",
    "    for j in range(0 , n2):\n",
    "        R[j] = arr[m + 1 + j]\n",
    "  \n",
    "\n",
    "    i = 0    \n",
    "    j = 0    \n",
    "    k = l    \n",
    "  \n",
    "    while i < n1 and j < n2 :\n",
    "        if L[i] <= R[j]:\n",
    "            arr[k] = L[i]\n",
    "            i += 1\n",
    "        else:\n",
    "            arr[k] = R[j]\n",
    "            j += 1\n",
    "        k += 1\n",
    "  \n",
    "\n",
    "    while i < n1:\n",
    "        arr[k] = L[i]\n",
    "        i += 1\n",
    "        k += 1\n",
    "  \n",
    "\n",
    "    while j < n2:\n",
    "        arr[k] = R[j]\n",
    "        j += 1\n",
    "        k += 1\n",
    "  \n",
    "def mergeSort(arr,l,r):\n",
    "    if l < r:\n",
    "  \n",
    "    \n",
    "        m = (l+(r-1))//2\n",
    "    \n",
    "        mergeSort(arr, l, m)\n",
    "        mergeSort(arr, m+1, r)\n",
    "        merge(arr, l, m, r)\n",
    "  \n",
    "  \n",
    "arr = [29,13,22,37,52,49,46,71,56]\n",
    "n = len(arr)\n",
    "\n",
    "  \n",
    "mergeSort(arr,0,n-1)\n",
    "for i in range(n):\n",
    "    print (\"%d\" %arr[i]),\n",
    "  "
   ]
  },
  {
   "cell_type": "code",
   "execution_count": 9,
   "id": "2fd7232e",
   "metadata": {},
   "outputs": [
    {
     "name": "stdout",
     "output_type": "stream",
     "text": [
      "13\n",
      "22\n",
      "29\n",
      "37\n",
      "46\n",
      "49\n",
      "52\n",
      "56\n",
      "71\n"
     ]
    }
   ],
   "source": [
    "def partition(arr, low, high):\n",
    "    i = (low-1)         \n",
    "    pivot = arr[high]     \n",
    "  \n",
    "    for j in range(low, high):\n",
    "  \n",
    "        \n",
    "        if arr[j] <= pivot:\n",
    "  \n",
    "            \n",
    "            i = i+1\n",
    "            arr[i], arr[j] = arr[j], arr[i]\n",
    "  \n",
    "    arr[i+1], arr[high] = arr[high], arr[i+1]\n",
    "    return (i+1)\n",
    "  \n",
    "\n",
    "  \n",
    "  \n",
    "def quickSort(arr, low, high):\n",
    "    if len(arr) == 1:\n",
    "        return arr\n",
    "    if low < high:\n",
    "  \n",
    "\n",
    "        pi = partition(arr, low, high)\n",
    "  \n",
    "\n",
    "        quickSort(arr, low, pi-1)\n",
    "        quickSort(arr, pi+1, high)\n",
    "  \n",
    "  \n",
    "arr = [29,13,22,37,52,49,46,71,56]\n",
    "n = len(arr)\n",
    "quickSort(arr, 0, n-1)\n",
    "\n",
    "for i in range(n):\n",
    "    print(\"%d\" % arr[i]),"
   ]
  },
  {
   "cell_type": "code",
   "execution_count": null,
   "id": "c9000156",
   "metadata": {},
   "outputs": [],
   "source": []
  }
 ],
 "metadata": {
  "kernelspec": {
   "display_name": "Python 3",
   "language": "python",
   "name": "python3"
  },
  "language_info": {
   "codemirror_mode": {
    "name": "ipython",
    "version": 3
   },
   "file_extension": ".py",
   "mimetype": "text/x-python",
   "name": "python",
   "nbconvert_exporter": "python",
   "pygments_lexer": "ipython3",
   "version": "3.8.8"
  }
 },
 "nbformat": 4,
 "nbformat_minor": 5
}
