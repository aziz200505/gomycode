{
 "cells": [
  {
   "cell_type": "code",
   "execution_count": 7,
   "id": "42456fef",
   "metadata": {
    "collapsed": true
   },
   "outputs": [
    {
     "name": "stdout",
     "output_type": "stream",
     "text": [
      "35\n"
     ]
    }
   ],
   "source": [
    "def maximum(a, b, c):\n",
    "    list = [a, b, c]\n",
    "    return max(list)\n",
    "  \n",
    "a = 20\n",
    "b = 35\n",
    "c = 19\n",
    "print(maximum(a, b, c))"
   ]
  },
  {
   "cell_type": "code",
   "execution_count": 5,
   "id": "4990d487",
   "metadata": {
    "collapsed": true
   },
   "outputs": [
    {
     "name": "stdout",
     "output_type": "stream",
     "text": [
      "The sum is 50\n"
     ]
    }
   ],
   "source": [
    "def add_num(a,b):\n",
    "    sum=a+b;\n",
    "    return sum;\n",
    "num1=40  \n",
    "num2=10\n",
    "print(\"The sum is\",add_num(num1,num2))"
   ]
  },
  {
   "cell_type": "code",
   "execution_count": 13,
   "id": "f88890f2",
   "metadata": {},
   "outputs": [
    {
     "name": "stdout",
     "output_type": "stream",
     "text": [
      "20\n",
      "945\n"
     ]
    }
   ],
   "source": [
    "total = 0\n",
    " \n",
    "list1 = [0, 2, 4, 6, 8]\n",
    " \n",
    "for ele in range(0, len(list1)):\n",
    "    total = total + list1[ele]\n",
    " \n",
    "print(total)\n",
    " \n",
    "    \n",
    "def multiplyList(myList) :\n",
    "    \n",
    "    result = 1\n",
    "    for x in myList:\n",
    "         result = result * x\n",
    "    return result\n",
    "     \n",
    "list1 = [1, 3, 5, 7, 9]\n",
    "print(multiplyList(list1))\n"
   ]
  },
  {
   "cell_type": "code",
   "execution_count": 14,
   "id": "759b4e9f",
   "metadata": {},
   "outputs": [
    {
     "name": "stdout",
     "output_type": "stream",
     "text": [
      "black-green-red-white-yellow\n"
     ]
    }
   ],
   "source": [
    "colors='green-red-yellow-black-white'\n",
    " \n",
    "items=[n for n in colors.split('-')]\n",
    "items.sort()\n",
    "print('-'.join(items))"
   ]
  },
  {
   "cell_type": "code",
   "execution_count": null,
   "id": "77698fa5",
   "metadata": {},
   "outputs": [],
   "source": []
  }
 ],
 "metadata": {
  "kernelspec": {
   "display_name": "Python 3",
   "language": "python",
   "name": "python3"
  },
  "language_info": {
   "codemirror_mode": {
    "name": "ipython",
    "version": 3
   },
   "file_extension": ".py",
   "mimetype": "text/x-python",
   "name": "python",
   "nbconvert_exporter": "python",
   "pygments_lexer": "ipython3",
   "version": "3.8.8"
  }
 },
 "nbformat": 4,
 "nbformat_minor": 5
}
